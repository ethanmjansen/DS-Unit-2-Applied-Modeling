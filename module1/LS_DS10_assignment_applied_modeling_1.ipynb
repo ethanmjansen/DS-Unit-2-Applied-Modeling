{
  "nbformat": 4,
  "nbformat_minor": 0,
  "metadata": {
    "colab": {
      "name": "LS_DS10_assignment_applied_modeling_1.ipynb",
      "provenance": [],
      "collapsed_sections": [],
      "include_colab_link": true
    },
    "kernelspec": {
      "display_name": "Python 3",
      "language": "python",
      "name": "python3"
    },
    "language_info": {
      "codemirror_mode": {
        "name": "ipython",
        "version": 3
      },
      "file_extension": ".py",
      "mimetype": "text/x-python",
      "name": "python",
      "nbconvert_exporter": "python",
      "pygments_lexer": "ipython3",
      "version": "3.7.3"
    }
  },
  "cells": [
    {
      "cell_type": "markdown",
      "metadata": {
        "id": "view-in-github",
        "colab_type": "text"
      },
      "source": [
        "<a href=\"https://colab.research.google.com/github/ethanmjansen/DS-Unit-2-Applied-Modeling/blob/master/module1/LS_DS10_assignment_applied_modeling_1.ipynb\" target=\"_parent\"><img src=\"https://colab.research.google.com/assets/colab-badge.svg\" alt=\"Open In Colab\"/></a>"
      ]
    },
    {
      "cell_type": "markdown",
      "metadata": {
        "colab_type": "text",
        "id": "nCc3XZEyG3XV"
      },
      "source": [
        "Lambda School Data Science\n",
        "\n",
        "*Unit 2, Sprint 3, Module 1*\n",
        "\n",
        "---\n",
        "\n",
        "\n",
        "# Define ML problems\n",
        "\n",
        "You will use your portfolio project dataset for all assignments this sprint.\n",
        "\n",
        "## Assignment\n",
        "\n",
        "Complete these tasks for your project, and document your decisions.\n",
        "\n",
        "- [ ] Choose your target. Which column in your tabular dataset will you predict?\n",
        "- [ ] Is your problem regression or classification?\n",
        "- [ ] How is your target distributed?\n",
        "    - Classification: How many classes? Are the classes imbalanced?\n",
        "    - Regression: Is the target right-skewed? If so, you may want to log transform the target.\n",
        "- [ ] Choose your evaluation metric(s).\n",
        "    - Classification: Is your majority class frequency >= 50% and < 70% ? If so, you can just use accuracy if you want. Outside that range, accuracy could be misleading. What evaluation metric will you choose, in addition to or instead of accuracy?\n",
        "    - Regression: Will you use mean absolute error, root mean squared error, R^2, or other regression metrics?\n",
        "- [ ] Choose which observations you will use to train, validate, and test your model.\n",
        "    - Are some observations outliers? Will you exclude them?\n",
        "    - Will you do a random split or a time-based split?\n",
        "- [ ] Begin to clean and explore your data.\n",
        "- [ ] Begin to choose which features, if any, to exclude. Would some features \"leak\" future information?\n",
        "\n",
        "If you haven't found a dataset yet, do that today. [Review requirements for your portfolio project](https://lambdaschool.github.io/ds/unit2) and choose your dataset."
      ]
    },
    {
      "cell_type": "markdown",
      "metadata": {
        "id": "5lk6liH4aAep",
        "colab_type": "text"
      },
      "source": [
        "#Pre Work Stuff\n"
      ]
    },
    {
      "cell_type": "code",
      "metadata": {
        "id": "Nlu2K97to3Le",
        "colab_type": "code",
        "colab": {}
      },
      "source": [
        "import pandas as pd"
      ],
      "execution_count": 0,
      "outputs": []
    },
    {
      "cell_type": "code",
      "metadata": {
        "id": "HfUSVq1oo6Gx",
        "colab_type": "code",
        "outputId": "f0f92a26-d047-4f0c-9c87-dc1023c6fde6",
        "colab": {
          "base_uri": "https://localhost:8080/"
        }
      },
      "source": [
        "from google.colab import files\n",
        "uploaded = files.upload()"
      ],
      "execution_count": 0,
      "outputs": [
        {
          "output_type": "display_data",
          "data": {
            "text/html": [
              "\n",
              "     <input type=\"file\" id=\"files-6cebcef7-3534-42a2-9f53-e64c92a6f189\" name=\"files[]\" multiple disabled />\n",
              "     <output id=\"result-6cebcef7-3534-42a2-9f53-e64c92a6f189\">\n",
              "      Upload widget is only available when the cell has been executed in the\n",
              "      current browser session. Please rerun this cell to enable.\n",
              "      </output>\n",
              "      <script src=\"/nbextensions/google.colab/files.js\"></script> "
            ],
            "text/plain": [
              "<IPython.core.display.HTML object>"
            ]
          },
          "metadata": {
            "tags": []
          }
        }
      ]
    },
    {
      "cell_type": "code",
      "metadata": {
        "id": "9kudfpnNskeq",
        "colab_type": "code",
        "colab": {}
      },
      "source": [
        "df = pd.read_csv('2018_Central_Park_Squirrel_Census_-_Squirrel_Data (1).csv')"
      ],
      "execution_count": 0,
      "outputs": []
    },
    {
      "cell_type": "markdown",
      "metadata": {
        "id": "ZIM_q0dZaEgI",
        "colab_type": "text"
      },
      "source": [
        "#Choose a Target"
      ]
    },
    {
      "cell_type": "code",
      "metadata": {
        "id": "rHuHBNNXaQoO",
        "colab_type": "code",
        "outputId": "a99a201c-57b6-4a48-e36b-1fcc0b396a1f",
        "colab": {
          "base_uri": "https://localhost:8080/",
          "height": 251
        }
      },
      "source": [
        "df.head(2)"
      ],
      "execution_count": 9,
      "outputs": [
        {
          "output_type": "execute_result",
          "data": {
            "text/html": [
              "<div>\n",
              "<style scoped>\n",
              "    .dataframe tbody tr th:only-of-type {\n",
              "        vertical-align: middle;\n",
              "    }\n",
              "\n",
              "    .dataframe tbody tr th {\n",
              "        vertical-align: top;\n",
              "    }\n",
              "\n",
              "    .dataframe thead th {\n",
              "        text-align: right;\n",
              "    }\n",
              "</style>\n",
              "<table border=\"1\" class=\"dataframe\">\n",
              "  <thead>\n",
              "    <tr style=\"text-align: right;\">\n",
              "      <th></th>\n",
              "      <th>X</th>\n",
              "      <th>Y</th>\n",
              "      <th>Unique Squirrel ID</th>\n",
              "      <th>Hectare</th>\n",
              "      <th>Shift</th>\n",
              "      <th>Date</th>\n",
              "      <th>Hectare Squirrel Number</th>\n",
              "      <th>Age</th>\n",
              "      <th>Primary Fur Color</th>\n",
              "      <th>Highlight Fur Color</th>\n",
              "      <th>Combination of Primary and Highlight Color</th>\n",
              "      <th>Color notes</th>\n",
              "      <th>Location</th>\n",
              "      <th>Above Ground Sighter Measurement</th>\n",
              "      <th>Specific Location</th>\n",
              "      <th>Running</th>\n",
              "      <th>Chasing</th>\n",
              "      <th>Climbing</th>\n",
              "      <th>Eating</th>\n",
              "      <th>Foraging</th>\n",
              "      <th>Other Activities</th>\n",
              "      <th>Kuks</th>\n",
              "      <th>Quaas</th>\n",
              "      <th>Moans</th>\n",
              "      <th>Tail flags</th>\n",
              "      <th>Tail twitches</th>\n",
              "      <th>Approaches</th>\n",
              "      <th>Indifferent</th>\n",
              "      <th>Runs from</th>\n",
              "      <th>Other Interactions</th>\n",
              "      <th>Lat/Long</th>\n",
              "      <th>Zip Codes</th>\n",
              "      <th>Community Districts</th>\n",
              "      <th>Borough Boundaries</th>\n",
              "      <th>City Council Districts</th>\n",
              "      <th>Police Precincts</th>\n",
              "    </tr>\n",
              "  </thead>\n",
              "  <tbody>\n",
              "    <tr>\n",
              "      <th>0</th>\n",
              "      <td>-73.956134</td>\n",
              "      <td>40.794082</td>\n",
              "      <td>37F-PM-1014-03</td>\n",
              "      <td>37F</td>\n",
              "      <td>PM</td>\n",
              "      <td>10142018</td>\n",
              "      <td>3</td>\n",
              "      <td>NaN</td>\n",
              "      <td>NaN</td>\n",
              "      <td>NaN</td>\n",
              "      <td>+</td>\n",
              "      <td>NaN</td>\n",
              "      <td>NaN</td>\n",
              "      <td>NaN</td>\n",
              "      <td>NaN</td>\n",
              "      <td>False</td>\n",
              "      <td>False</td>\n",
              "      <td>False</td>\n",
              "      <td>False</td>\n",
              "      <td>False</td>\n",
              "      <td>NaN</td>\n",
              "      <td>False</td>\n",
              "      <td>False</td>\n",
              "      <td>False</td>\n",
              "      <td>False</td>\n",
              "      <td>False</td>\n",
              "      <td>False</td>\n",
              "      <td>False</td>\n",
              "      <td>False</td>\n",
              "      <td>NaN</td>\n",
              "      <td>POINT (-73.9561344937861 40.7940823884086)</td>\n",
              "      <td>NaN</td>\n",
              "      <td>19</td>\n",
              "      <td>4</td>\n",
              "      <td>19</td>\n",
              "      <td>13</td>\n",
              "    </tr>\n",
              "    <tr>\n",
              "      <th>1</th>\n",
              "      <td>-73.957044</td>\n",
              "      <td>40.794851</td>\n",
              "      <td>37E-PM-1006-03</td>\n",
              "      <td>37E</td>\n",
              "      <td>PM</td>\n",
              "      <td>10062018</td>\n",
              "      <td>3</td>\n",
              "      <td>Adult</td>\n",
              "      <td>Gray</td>\n",
              "      <td>Cinnamon</td>\n",
              "      <td>Gray+Cinnamon</td>\n",
              "      <td>NaN</td>\n",
              "      <td>Ground Plane</td>\n",
              "      <td>FALSE</td>\n",
              "      <td>NaN</td>\n",
              "      <td>True</td>\n",
              "      <td>False</td>\n",
              "      <td>False</td>\n",
              "      <td>False</td>\n",
              "      <td>False</td>\n",
              "      <td>NaN</td>\n",
              "      <td>False</td>\n",
              "      <td>False</td>\n",
              "      <td>False</td>\n",
              "      <td>False</td>\n",
              "      <td>False</td>\n",
              "      <td>False</td>\n",
              "      <td>False</td>\n",
              "      <td>True</td>\n",
              "      <td>me</td>\n",
              "      <td>POINT (-73.9570437717691 40.794850940803904)</td>\n",
              "      <td>NaN</td>\n",
              "      <td>19</td>\n",
              "      <td>4</td>\n",
              "      <td>19</td>\n",
              "      <td>13</td>\n",
              "    </tr>\n",
              "  </tbody>\n",
              "</table>\n",
              "</div>"
            ],
            "text/plain": [
              "           X          Y  ... City Council Districts Police Precincts\n",
              "0 -73.956134  40.794082  ...                     19               13\n",
              "1 -73.957044  40.794851  ...                     19               13\n",
              "\n",
              "[2 rows x 36 columns]"
            ]
          },
          "metadata": {
            "tags": []
          },
          "execution_count": 9
        }
      ]
    },
    {
      "cell_type": "code",
      "metadata": {
        "id": "GwJ7djqKfU01",
        "colab_type": "code",
        "outputId": "db414520-5056-469b-a323-4c04b8cca556",
        "colab": {
          "base_uri": "https://localhost:8080/",
          "height": 69
        }
      },
      "source": [
        "#Looking for weird instances where a squirrel was indifferent but ran away\n",
        "df['run_ind'] = df['Runs from'] & df['Indifferent'] == True\n",
        "df['run_ind'].value_counts()"
      ],
      "execution_count": 10,
      "outputs": [
        {
          "output_type": "execute_result",
          "data": {
            "text/plain": [
              "False    2991\n",
              "True       32\n",
              "Name: run_ind, dtype: int64"
            ]
          },
          "metadata": {
            "tags": []
          },
          "execution_count": 10
        }
      ]
    },
    {
      "cell_type": "code",
      "metadata": {
        "id": "WoDMnLPa0E_1",
        "colab_type": "code",
        "outputId": "be2188db-0f0a-4ec7-8549-e2f6bed38658",
        "colab": {
          "base_uri": "https://localhost:8080/",
          "height": 52
        }
      },
      "source": [
        "#Dropping those instances\n",
        "indexNames = df[ (df['Runs from'] == True) & (df['Indifferent'] == True) ].index\n",
        "df.drop(indexNames , inplace=True)\n",
        "df['run_ind'].value_counts()"
      ],
      "execution_count": 11,
      "outputs": [
        {
          "output_type": "execute_result",
          "data": {
            "text/plain": [
              "False    2991\n",
              "Name: run_ind, dtype: int64"
            ]
          },
          "metadata": {
            "tags": []
          },
          "execution_count": 11
        }
      ]
    },
    {
      "cell_type": "code",
      "metadata": {
        "id": "Mwj2cIf7ggNi",
        "colab_type": "code",
        "outputId": "82fb0d9b-4288-41c6-9549-a4c2fed92074",
        "colab": {
          "base_uri": "https://localhost:8080/",
          "height": 52
        }
      },
      "source": [
        "#Looking for weird instances where a squirrel was all three\n",
        "df['all_false'] = df['Runs from'] & df['Indifferent'] & df['Approaches'] == False\n",
        "df['all_false'].value_counts()"
      ],
      "execution_count": 12,
      "outputs": [
        {
          "output_type": "execute_result",
          "data": {
            "text/plain": [
              "True    2991\n",
              "Name: all_false, dtype: int64"
            ]
          },
          "metadata": {
            "tags": []
          },
          "execution_count": 12
        }
      ]
    },
    {
      "cell_type": "code",
      "metadata": {
        "id": "mgYd1wnO1S9I",
        "colab_type": "code",
        "outputId": "0324004d-4c63-4dff-b00a-6ae5565a9036",
        "colab": {
          "base_uri": "https://localhost:8080/",
          "height": 52
        }
      },
      "source": [
        "#Looking for weird instances where a squirrl was all three\n",
        "df['all_true'] = df['Runs from'] & df['Indifferent'] & df['Approaches'] == True\n",
        "df['all_true'].value_counts()"
      ],
      "execution_count": 13,
      "outputs": [
        {
          "output_type": "execute_result",
          "data": {
            "text/plain": [
              "False    2991\n",
              "Name: all_true, dtype: int64"
            ]
          },
          "metadata": {
            "tags": []
          },
          "execution_count": 13
        }
      ]
    },
    {
      "cell_type": "code",
      "metadata": {
        "id": "uYUpmjHR1tb2",
        "colab_type": "code",
        "outputId": "c792bdc8-b45c-483b-bb8d-c234d5fcd479",
        "colab": {
          "base_uri": "https://localhost:8080/",
          "height": 69
        }
      },
      "source": [
        "#This is my target\n",
        "df['Target'] = df['Approaches'] | df['Indifferent'] == True\n",
        "df['Target'].value_counts()"
      ],
      "execution_count": 14,
      "outputs": [
        {
          "output_type": "execute_result",
          "data": {
            "text/plain": [
              "True     1581\n",
              "False    1410\n",
              "Name: Target, dtype: int64"
            ]
          },
          "metadata": {
            "tags": []
          },
          "execution_count": 14
        }
      ]
    },
    {
      "cell_type": "markdown",
      "metadata": {
        "id": "eba9_fxRc4Up",
        "colab_type": "text"
      },
      "source": [
        "#Regression or Classification?\n",
        "\n",
        "\n"
      ]
    },
    {
      "cell_type": "markdown",
      "metadata": {
        "id": "R9saFlqHc8U4",
        "colab_type": "text"
      },
      "source": [
        "This is a binary classification problem, because squirrels will either, run away when they see a person, or they will approach/not care when around a person. "
      ]
    },
    {
      "cell_type": "markdown",
      "metadata": {
        "id": "BTuVQSyZdyb_",
        "colab_type": "text"
      },
      "source": [
        "# How is Target Distributed?"
      ]
    },
    {
      "cell_type": "code",
      "metadata": {
        "id": "ID8BhO4l2qYA",
        "colab_type": "code",
        "colab": {}
      },
      "source": [
        "#Defining y \n",
        "y = df['Target']"
      ],
      "execution_count": 0,
      "outputs": []
    },
    {
      "cell_type": "code",
      "metadata": {
        "id": "4P4HZ9Eg2sjv",
        "colab_type": "code",
        "outputId": "b3b20641-d0bb-42cd-e268-a33583bd5b3b",
        "colab": {
          "base_uri": "https://localhost:8080/",
          "height": 35
        }
      },
      "source": [
        "#Number of unique instances in y \n",
        "y.nunique()"
      ],
      "execution_count": 16,
      "outputs": [
        {
          "output_type": "execute_result",
          "data": {
            "text/plain": [
              "2"
            ]
          },
          "metadata": {
            "tags": []
          },
          "execution_count": 16
        }
      ]
    },
    {
      "cell_type": "code",
      "metadata": {
        "id": "elKiqXzR2waQ",
        "colab_type": "code",
        "outputId": "8be29603-061e-4203-b73c-58edb9cdd508",
        "colab": {
          "base_uri": "https://localhost:8080/",
          "height": 35
        }
      },
      "source": [
        "#Majority class \n",
        "y.value_counts(normalize=True).max()"
      ],
      "execution_count": 17,
      "outputs": [
        {
          "output_type": "execute_result",
          "data": {
            "text/plain": [
              "0.5285857572718154"
            ]
          },
          "metadata": {
            "tags": []
          },
          "execution_count": 17
        }
      ]
    },
    {
      "cell_type": "markdown",
      "metadata": {
        "id": "Dj7epeYZefXy",
        "colab_type": "text"
      },
      "source": [
        "Based on these value counts, it seems that the target is evenly distributed between running and not running away. "
      ]
    },
    {
      "cell_type": "markdown",
      "metadata": {
        "id": "iS3TcDw4yLGM",
        "colab_type": "text"
      },
      "source": [
        "#Evaluation Metrics\n"
      ]
    },
    {
      "cell_type": "code",
      "metadata": {
        "id": "yYWZu_nV3m-0",
        "colab_type": "code",
        "outputId": "263eb8f8-fb27-4e50-ca1c-8912ed1956af",
        "colab": {
          "base_uri": "https://localhost:8080/",
          "height": 69
        }
      },
      "source": [
        "y.value_counts(normalize=True)"
      ],
      "execution_count": 18,
      "outputs": [
        {
          "output_type": "execute_result",
          "data": {
            "text/plain": [
              "True     0.528586\n",
              "False    0.471414\n",
              "Name: Target, dtype: float64"
            ]
          },
          "metadata": {
            "tags": []
          },
          "execution_count": 18
        }
      ]
    },
    {
      "cell_type": "markdown",
      "metadata": {
        "id": "fermxLUx3q-F",
        "colab_type": "text"
      },
      "source": [
        "My Majority Class is 52% of the data and since that is above 50% and less than 70% I would say that Accuray is a pretty good metric to use in how effective my model is. I would also add that precision would be important becasue if you approach a squirrel and it reacts violently someone could get hurt or you could cause distress to the squirrel. "
      ]
    },
    {
      "cell_type": "markdown",
      "metadata": {
        "id": "KmKkvG5T4eqt",
        "colab_type": "text"
      },
      "source": [
        "#Which Observations to Train/Validate/Test\n",
        "\n",
        "\n",
        "\n",
        "\n",
        "\n",
        "\n"
      ]
    },
    {
      "cell_type": "markdown",
      "metadata": {
        "id": "YBQGJnV952gP",
        "colab_type": "text"
      },
      "source": [
        "*   There are no outliers in this data, being a classification problem there aren't any classes that are out of the range of what I would consider normal.  \n",
        "\n",
        "*   I will do a Random Train/Val/Test split because the observations are only during the year of 2018 in the month of October. There is no reason to split based on date. "
      ]
    },
    {
      "cell_type": "markdown",
      "metadata": {
        "id": "D0KCzrdB57RZ",
        "colab_type": "text"
      },
      "source": [
        "#Clean and Explore Data"
      ]
    },
    {
      "cell_type": "code",
      "metadata": {
        "id": "hmb9g_XI7KYj",
        "colab_type": "code",
        "colab": {}
      },
      "source": [
        "import matplotlib.pyplot as plt\n",
        "import seaborn as sns"
      ],
      "execution_count": 0,
      "outputs": []
    },
    {
      "cell_type": "code",
      "metadata": {
        "id": "l5px7_NN6NP8",
        "colab_type": "code",
        "colab": {}
      },
      "source": [
        "#Dropping Columns I was using to inspect for odd instances \n",
        "#wile making my target column \n",
        "columns_to_drop = ['run_ind', 'all_false', 'all_true']\n",
        "df = df.drop(columns=columns_to_drop)"
      ],
      "execution_count": 0,
      "outputs": []
    },
    {
      "cell_type": "code",
      "metadata": {
        "id": "PvNMzDBx5_At",
        "colab_type": "code",
        "colab": {
          "base_uri": "https://localhost:8080/",
          "height": 676
        },
        "outputId": "3b632592-5273-4887-cd7c-dc305c816509"
      },
      "source": [
        "#Looking at null values and seeing how this would effect my data\n",
        "df.isnull().sum()"
      ],
      "execution_count": 21,
      "outputs": [
        {
          "output_type": "execute_result",
          "data": {
            "text/plain": [
              "X                                                0\n",
              "Y                                                0\n",
              "Unique Squirrel ID                               0\n",
              "Hectare                                          0\n",
              "Shift                                            0\n",
              "Date                                             0\n",
              "Hectare Squirrel Number                          0\n",
              "Age                                            121\n",
              "Primary Fur Color                               55\n",
              "Highlight Fur Color                           1077\n",
              "Combination of Primary and Highlight Color       0\n",
              "Color notes                                   2814\n",
              "Location                                        62\n",
              "Above Ground Sighter Measurement               112\n",
              "Specific Location                             2522\n",
              "Running                                          0\n",
              "Chasing                                          0\n",
              "Climbing                                         0\n",
              "Eating                                           0\n",
              "Foraging                                         0\n",
              "Other Activities                              2559\n",
              "Kuks                                             0\n",
              "Quaas                                            0\n",
              "Moans                                            0\n",
              "Tail flags                                       0\n",
              "Tail twitches                                    0\n",
              "Approaches                                       0\n",
              "Indifferent                                      0\n",
              "Runs from                                        0\n",
              "Other Interactions                            2762\n",
              "Lat/Long                                         0\n",
              "Zip Codes                                     2982\n",
              "Community Districts                              0\n",
              "Borough Boundaries                               0\n",
              "City Council Districts                           0\n",
              "Police Precincts                                 0\n",
              "Target                                           0\n",
              "dtype: int64"
            ]
          },
          "metadata": {
            "tags": []
          },
          "execution_count": 21
        }
      ]
    },
    {
      "cell_type": "code",
      "metadata": {
        "id": "3sWyhAut8fZn",
        "colab_type": "code",
        "outputId": "b6dd614a-40da-4ede-8a9c-1b1c7788eaf3",
        "colab": {
          "base_uri": "https://localhost:8080/",
          "height": 225
        }
      },
      "source": [
        "#Value counts of activities\n",
        "df['Other Activities'].value_counts()"
      ],
      "execution_count": 22,
      "outputs": [
        {
          "output_type": "execute_result",
          "data": {
            "text/plain": [
              "digging                                      19\n",
              "sitting                                      16\n",
              "walking                                      14\n",
              "burying                                      12\n",
              "playing                                      11\n",
              "                                             ..\n",
              "digging deeeep                                1\n",
              "digging,chewing on tree—has nut in mouth!     1\n",
              "eating (osage orange)                         1\n",
              "standing on back legs                         1\n",
              "in hollow                                     1\n",
              "Name: Other Activities, Length: 302, dtype: int64"
            ]
          },
          "metadata": {
            "tags": []
          },
          "execution_count": 22
        }
      ]
    },
    {
      "cell_type": "code",
      "metadata": {
        "id": "WQ4R3nTJ8Lkm",
        "colab_type": "code",
        "outputId": "e375938a-7440-444f-85af-4e4874d03567",
        "colab": {
          "base_uri": "https://localhost:8080/",
          "height": 35
        }
      },
      "source": [
        "#How many kinds of other Activities\n",
        "df['Other Activities'].nunique()"
      ],
      "execution_count": 23,
      "outputs": [
        {
          "output_type": "execute_result",
          "data": {
            "text/plain": [
              "302"
            ]
          },
          "metadata": {
            "tags": []
          },
          "execution_count": 23
        }
      ]
    },
    {
      "cell_type": "code",
      "metadata": {
        "id": "TENKVJPA8teX",
        "colab_type": "code",
        "colab": {
          "base_uri": "https://localhost:8080/",
          "height": 1000
        },
        "outputId": "1ea8c45b-0ab8-4fa7-bfa7-43795e2774b3"
      },
      "source": [
        "#Looking at the kinds of Activities\n",
        "df['Other Activities'].unique()"
      ],
      "execution_count": 24,
      "outputs": [
        {
          "output_type": "execute_result",
          "data": {
            "text/plain": [
              "array([nan, 'unknown', 'wrestling with mother', 'grooming', 'walking',\n",
              "       'moving slowly', 'sitting',\n",
              "       'eating (ate upside down on a tree — #jealous)',\n",
              "       'running (with nut)', 'playing with #5', 'hiding nut',\n",
              "       'drank from a pond of rain water', 'chasing (#4 across trees)',\n",
              "       'gathering acorns',\n",
              "       'eating (a mushroom),circles around us,really fat,scratching himself,grooming activity',\n",
              "       'digging', 'walking on branch',\n",
              "       'being chased,was pushed by other squirrel', 'climbing (tree)',\n",
              "       'chasing #8', 'still', 'stop to look at me—then ran',\n",
              "       'chasing (a chipmunk)', 'took nut to bury', 'flying',\n",
              "       'stole (found?) an entire sandwich',\n",
              "       'walking w/ something in mouth', 'burying nut', 'begging',\n",
              "       'was hanging out w/ #2 until i showed up', 'quietly',\n",
              "       'nest building', 'burying', 'dead (something ran over it)',\n",
              "       'chased #12', 'playing (with #9)', 'sitting still',\n",
              "       'sitting in tree', 'together w/ #7', 'not sure walk-pause-walk',\n",
              "       'jumping', 'eating (mushroom)',\n",
              "       'eating (eats with head tilted far to the right (tooth issue?))',\n",
              "       'playing tag together', 'prancing', 'small jumps',\n",
              "       'sitting very still', 'hiding in log', 'hiding food',\n",
              "       'climbing (rock)', 'playing w/ #8', 'jump', 'eating in tree',\n",
              "       'sitting still,tail over back', 'moseying',\n",
              "       'climbed fence staring at me - went up tree', 'chasing #3',\n",
              "       'made a back-door escape from dog off-leash',\n",
              "       'walking up & down branches', 'buried an acorn',\n",
              "       'seems to be grinding teeth on a piece of material (sounds from grinding)',\n",
              "       'a lot of activity', 'chased by dog', 'hiding', 'being chased',\n",
              "       'carrying food in mouth',\n",
              "       'shelling and eating a nut then a dog chased it up a tree & squirrel carried its nut up the tree,settled in a branch & resumed eating',\n",
              "       'eating loudly <- peanuts w/ shells', 'chilling',\n",
              "       'hiding from dog', 'playing', 'canoodling w/ 8', 'mushroom',\n",
              "       'staring', 'chasing (#6)', 'watching passers-by',\n",
              "       'eating (red berries)', 'peanuts', 'eating (osage orange)',\n",
              "       'chasing and being chased by #6', 'crossing east drive',\n",
              "       'standing', 'digging,drinking',\n",
              "       'lying on belly on branch,eating big nut', 'watching me',\n",
              "       'jumping between branches', 'chasing (dog chasing)',\n",
              "       'chasing (#1)', 'stood on fence', 'chasing #4',\n",
              "       'sitting and watching on a tree',\n",
              "       'i think it climbed the tree when i first saw it.',\n",
              "       'bringing green leaves to nest', 'eating (nut)', 'chasing (#7)',\n",
              "       'chasing #14',\n",
              "       'climbing (over small wire fence then on the ground)', 'hopping',\n",
              "       'met #3 while foraging and briefly tussled',\n",
              "       '2/3 were chasing each other', 'pulling leaves',\n",
              "       'being chased by #2', 'communicating from tree',\n",
              "       'ran across a path',\n",
              "       'begging (came one yard away from me and stood there)',\n",
              "       'with some nuts in the mouth', 'climbing (up rocks)',\n",
              "       'chasing squirrel #3', 'chasing (#8),scratching', 'runs from',\n",
              "       'not moving', 'going down tree', 'being chased by dog',\n",
              "       'nut in mouth', 'jumping b/w trees', 'running from #7',\n",
              "       'planting acorns', 'sleeping', 'fighting w/ pigeons', 'in hollow',\n",
              "       'for food', 'jumped off',\n",
              "       'looked like it was smelling/digging in the ground',\n",
              "       'running (from a dog)', 'jumping tree to tree',\n",
              "       'carrying nut away', 'chasing #2 and climbing tree w/ #2',\n",
              "       'sitting & watching', 'standing upright', 'digging & burying',\n",
              "       'lounging on tree upside down',\n",
              "       'running across ball field 5,near home plate',\n",
              "       'scanning (drawing included)',\n",
              "       'could this squirrel be eating a white mushroom?', 'cleaning',\n",
              "       'chased up a tree by #4', 'playing with #6', 'chasing (#5)',\n",
              "       'eating (berries)', 'scampering thru the grass!', 'd.p.t.',\n",
              "       'traveling', 'holding nut', 'jumping back & forth on tree',\n",
              "       '#7 & #8 chased each other up diff tree', 'building nest!',\n",
              "       'chasing #5', 'very quietly searching in long grass',\n",
              "       'was chased by # 11', 'planting nut', 'canoodling w/ #9',\n",
              "       'chasing (#3)', 'sitting there', 'chasing #7',\n",
              "       'walking,exploring - digging in flower bed',\n",
              "       'laying on tree branch', 'scratching', 'looking at me & #5',\n",
              "       'buried nut', 'walked between trees', 'acorns',\n",
              "       'hunkered down,tail over body; sitting perfectly still', 'falling',\n",
              "       'playing?', 'wresting w/ branch', 'hiding from bird',\n",
              "       'running (along ground,up tree)',\n",
              "       'foraging (foraged,ran to tree root,munched)',\n",
              "       'peeking out of tree,did *not* come out', 'caching',\n",
              "       'staring at me', 'eating upside down on tree trunk',\n",
              "       'burying the food on ground',\n",
              "       'chasing #2 took #2 food wrapper and is foraging through it',\n",
              "       'chasing (#7),playing?', 'climbing (fence)', 'playing w/ #7',\n",
              "       'eating (in a tree)', 'chasing #2', 'tumbling', 'climbed tree',\n",
              "       'running from #3', 'running (up tree)', 'chasing (#4)',\n",
              "       'climbing fence!', 'foraging (on the tree itself)',\n",
              "       'playing w/ #9', 'chasing (chased by #1),found a nut,buried it',\n",
              "       'pulling things off branches', 'climbing down',\n",
              "       'hanging upside down', 'eating (a peanut)', 'dropping acorns',\n",
              "       \"chillin'\", 'digging?', 'picking acorns off oak tree',\n",
              "       'chasing #1 and climbing tree w/ #1', 'in tree',\n",
              "       'curious about me', 'statue', 'sitting still on limb',\n",
              "       'crying out', 'eating bread it found on ground',\n",
              "       'playing,interacting with #6', 'chasing squirrel #6',\n",
              "       'chasing (#8),playing?', 'chasing #15', 'climbing (down tree)',\n",
              "       'burying nuts', 'ambling', 'crossing path',\n",
              "       'laid down on the branch', 'jumping on fence', 'hiding a nut',\n",
              "       '2/3 chasing each other', 'hanging out,watching world',\n",
              "       'chasing (#4),digging', 'scratching self', 'throwing down acorns',\n",
              "       'leaping branch to branch', 'watching me scratching',\n",
              "       'digging one hole w/ determination', 'dead',\n",
              "       'wandering,interacting with tourists',\n",
              "       'staying very still to avoid two very curious dogs on the ground',\n",
              "       'scampering w/ squirrel #1', 'watching',\n",
              "       'did not notice dog sitting a few yards away (10-20 ft)',\n",
              "       'patting ground', 'hanging on fence', 'ran up tree',\n",
              "       'jumping around!', 'chasing (#2)',\n",
              "       'chasing and being chased by #7', 'eating (nuts)', 'quieter',\n",
              "       'playing,interacting with #7', 'grooming! & scratching',\n",
              "       \"climbing (down from ~10')\", 'together w/ #8',\n",
              "       'burying its food into the ground',\n",
              "       'up on hind legs looking around', 'food in mouth',\n",
              "       'digging/burying,drinking from lake',\n",
              "       'being chased by #3 across trees', 'hopping around',\n",
              "       'digging,chewing on tree—has nut in mouth!',\n",
              "       'cleaning face & tail', 'playing w/ #6', 'following #1',\n",
              "       'gathering', 'threatened by approaching dog (dog #1)',\n",
              "       'hopped away', 'not sure; walking-stop-walking-stop',\n",
              "       \"watching me - didn't move\", 'lying down', 'together w/ #3',\n",
              "       'met #4 while foraging and briefly tussled',\n",
              "       'running (with food in mouth)', 'grooming,scratching',\n",
              "       'looking in bush', 'sitting in the sun', 'relaxing', 'scratching!',\n",
              "       'chased a bird carrying massive wad of grass', 'burying food',\n",
              "       'chased by dog #2', 'digging (?)', 'hopping around grass',\n",
              "       'running (across branches)', 'pair with #5',\n",
              "       'running from squirrel #5',\n",
              "       'pretended to bury a nut,stuck a leaf on top to make the spot less conspicuous.',\n",
              "       'ran up tree 4 feet and ate leaves',\n",
              "       'foraging (loving the acorns!)', 'teasing barking dog',\n",
              "       'standing on back legs',\n",
              "       'hopping & flipping around. this one was very energetic & jumping aorund',\n",
              "       'took a chestnut', 'chased by a doggo', 'digging deeeep',\n",
              "       'eating a mushroom!', 'running from dog', 'climbing (down)',\n",
              "       'chirps', 'different sound - happy,playful chirps',\n",
              "       'ran away & disappeared', 'wrestling with child', 'standing still',\n",
              "       'jumping crazily / digging hole',\n",
              "       'new movement flailing arms while foraging',\n",
              "       'collecting nest material', \"checkin' his stashes\",\n",
              "       'eating (in a tree cage thing)', 'carrying leaves',\n",
              "       'climbed tree (oak)', 'walking sitting up', 'drinking',\n",
              "       'cleaning herself', 'running (from birds)',\n",
              "       'got threatened by dog (same dog,dog #1)',\n",
              "       'climbing (dog barked & it ran up tree)', 'eating (on branch)'],\n",
              "      dtype=object)"
            ]
          },
          "metadata": {
            "tags": []
          },
          "execution_count": 24
        }
      ]
    },
    {
      "cell_type": "markdown",
      "metadata": {
        "id": "TpupMxwC9gYO",
        "colab_type": "text"
      },
      "source": [
        "#Which Features to Exclude"
      ]
    },
    {
      "cell_type": "markdown",
      "metadata": {
        "id": "stwtuUzn9jqN",
        "colab_type": "text"
      },
      "source": [
        "I would exclude the following features\n",
        "\n",
        "\n",
        "*   Unique Squirrel ID (Because there are some duplicates and it could leak)\n",
        "*   Target (It will definitley leak because it is what I'm looking for)\n",
        "*   All 3 Columns used to make target (Definitley Leakage)\n",
        "*   Lat/Long Point (Because it's a duplicate of X and Y Columns)\n",
        "*   I'm still deciding what needs to be dropped\n",
        "\n",
        "\n",
        "\n",
        "\n",
        "\n",
        "\n",
        "\n",
        "\n"
      ]
    }
  ]
}